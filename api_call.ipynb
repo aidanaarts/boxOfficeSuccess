{
 "cells": [
  {
   "cell_type": "code",
   "execution_count": 15,
   "metadata": {},
   "outputs": [],
   "source": [
    "import requests\n",
    "import pandas as pd\n",
    "import numpy as np\n",
    "import time"
   ]
  },
  {
   "cell_type": "code",
   "execution_count": 16,
   "metadata": {},
   "outputs": [],
   "source": [
    "API_key = '5096feff1c44572580c0389b8fb4b952'"
   ]
  },
  {
   "cell_type": "markdown",
   "metadata": {},
   "source": [
    "**<span style=\"font-size:2em;\">Get Data from API</span>**"
   ]
  },
  {
   "cell_type": "markdown",
   "metadata": {},
   "source": [
    "**Function to get movie data sorted by revenue**  "
   ]
  },
  {
   "cell_type": "code",
   "execution_count": 17,
   "metadata": {},
   "outputs": [],
   "source": [
    "def get_data(keywords, num_pages, api=API_key):\n",
    "    data = []\n",
    "    for i in range(1, num_pages):\n",
    "        query = 'https://api.themoviedb.org/3/discover/movie?api_key=' +  api + keywords +'&page=' + str(i)\n",
    "        response =  requests.get(query)\n",
    "        if response.status_code==200: \n",
    "            data.append(response.json())\n",
    "        else:\n",
    "            return \"error\"\n",
    "    return data"
   ]
  },
  {
   "cell_type": "markdown",
   "metadata": {},
   "source": [
    "**Call Function, Iterate through the Resulting pages, and Collect Necessary Information**"
   ]
  },
  {
   "cell_type": "code",
   "execution_count": 19,
   "metadata": {},
   "outputs": [
    {
     "name": "stdout",
     "output_type": "stream",
     "text": [
      "Time to call 500 pages of records: 0.00016808509826660156 seconds\n"
     ]
    }
   ],
   "source": [
    "film_data = get_data('&sort_by=revenue.desc', 500)\n",
    "columns = ['title', 'revenue', 'budget', 'release_date', 'genres', 'popularity', 'original_language', 'production_companies', 'id', 'runtime', 'adult', 'cast', 'crew']\n",
    "df = pd.DataFrame(columns=columns)\n",
    "\n",
    "# Check whether keys are in json output\n",
    "fm_set = columns[:-2]\n",
    "fc_set = columns[-2:]\n",
    "start = time.time()\n",
    "# Iterate through json data and add attributes were interested in to the DataFrame\n",
    "for page in film_data:\n",
    "    for film in page['results']:\n",
    "        film_revenue = requests.get('https://api.themoviedb.org/3/movie/' + str(film['id']) + '?api_key=' + API_key + '&language=en-US').json() \n",
    "        film_cast = requests.get('https://api.themoviedb.org/3/movie/' + str(film['id']) +'/credits?api_key='+ API_key+'&language=en-US').json() \n",
    "        if set(fm_set).issubset(film_revenue.keys()) and set(fc_set).issubset(film_cast.keys()): # If entries are filled for a given film\n",
    "            df.loc[len(df)] = [film['title'], film_revenue['revenue'], film_revenue['budget'], \n",
    "                   film_revenue['release_date'], film_revenue['genres'], film_revenue['popularity'],\n",
    "                   film_revenue['original_language'], film_revenue['production_companies'], film_revenue['id'],\n",
    "                   film_revenue['runtime'], film_revenue['adult'], film_cast['cast'], film_cast['crew']]\n",
    "        else: # Discard film\n",
    "            continue\n",
    "end = time.time()\n",
    "print('Time to call 500 pages of records: {} seconds'.format(end - start))"
   ]
  },
  {
   "cell_type": "markdown",
   "metadata": {},
   "source": [
    "**<span style=\"font-size:2em;\">Format Necessary Columns</span>**"
   ]
  },
  {
   "cell_type": "markdown",
   "metadata": {},
   "source": [
    "**Row-Wise Function to Pull Data from the JSON Loads in DataFrame**  "
   ]
  },
  {
   "cell_type": "code",
   "execution_count": null,
   "metadata": {},
   "outputs": [],
   "source": [
    "def read_json(row, group_num):\n",
    "    list_of_names = []\n",
    "    if group_num:\n",
    "        for item in row:\n",
    "            list_of_names.append('{} | {}'.format(item['name'], item['popularity']))\n",
    "    else:\n",
    "        for item in row:\n",
    "            list_of_names.append(item['name'])\n",
    "    return ', '.join(list_of_names)"
   ]
  },
  {
   "cell_type": "markdown",
   "metadata": {},
   "source": [
    "**Call Function on Necessary Columns in DataFrame**"
   ]
  },
  {
   "cell_type": "code",
   "execution_count": null,
   "metadata": {},
   "outputs": [],
   "source": [
    "# Group 1 refers to crew/cast (we want name : popularity)\n",
    "df['crew'] = df['crew'].apply(lambda d: read_json(d, 1))\n",
    "df['cast'] = df['cast'].apply(lambda d: read_json(d, 1))\n",
    "\n",
    "# Group 0 refers to genres/production_companies (we just want name)\n",
    "df['genres'] = df['genres'].apply(lambda d: read_json(d, 0))\n",
    "df['production_companies'] = df['production_companies'].apply(lambda d: read_json(d, 0))"
   ]
  },
  {
   "cell_type": "markdown",
   "metadata": {},
   "source": [
    "**Save to CSV and Excel**"
   ]
  },
  {
   "cell_type": "code",
   "execution_count": null,
   "metadata": {},
   "outputs": [],
   "source": [
    "df.to_excel('../Data/TMDB_dataset.xlsx', index=False)\n",
    "# df.to_csv('../Data/TMDB_dataset.csv', index=False)"
   ]
  },
  {
   "cell_type": "code",
   "execution_count": null,
   "metadata": {},
   "outputs": [],
   "source": []
  }
 ],
 "metadata": {
  "kernelspec": {
   "display_name": "Python 3",
   "language": "python",
   "name": "python3"
  },
  "language_info": {
   "codemirror_mode": {
    "name": "ipython",
    "version": 3
   },
   "file_extension": ".py",
   "mimetype": "text/x-python",
   "name": "python",
   "nbconvert_exporter": "python",
   "pygments_lexer": "ipython3",
   "version": "3.8.5"
  }
 },
 "nbformat": 4,
 "nbformat_minor": 5
}
