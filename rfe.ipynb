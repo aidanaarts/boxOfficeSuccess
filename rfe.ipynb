{
 "cells": [
  {
   "cell_type": "code",
   "execution_count": 1,
   "id": "1d7e150a-f17b-42fb-bea6-174837d2c00a",
   "metadata": {},
   "outputs": [],
   "source": [
    "import pandas as pd\n",
    "import numpy as np\n",
    "from sklearn import preprocessing\n",
    "from sklearn.model_selection import train_test_split\n",
    "import warnings\n",
    "warnings.simplefilter(action='ignore')\n",
    "from sklearn.linear_model import LogisticRegression\n",
    "from sklearn.feature_selection import RFE, RFECV\n",
    "# from sklearn.ensemble import RandomForestClassifier\n",
    "from sklearn.preprocessing import StandardScaler\n",
    "import matplotlib.pyplot as plt\n",
    "\n",
    "sc = StandardScaler() # Maybe we want to bin continuos data like budget"
   ]
  },
  {
   "cell_type": "code",
   "execution_count": 2,
   "id": "c8d29690-8dc1-431f-a33c-344ba6a182c7",
   "metadata": {},
   "outputs": [],
   "source": [
    "df = pd.read_excel('../Data/ProcessedData/TMDB_processed.xlsx')\n",
    "df = df.drop(['title'], axis=1)"
   ]
  },
  {
   "cell_type": "code",
   "execution_count": 3,
   "id": "0380e299-668c-4053-853d-6bdc02d33fe3",
   "metadata": {},
   "outputs": [],
   "source": [
    "features = df.dtypes[(df.columns != 'revenue')].index # Grab all features except that which we are trying to predict"
   ]
  },
  {
   "cell_type": "code",
   "execution_count": null,
   "id": "fc4a3421-df42-49b2-9ba4-ced478152ec2",
   "metadata": {},
   "outputs": [],
   "source": [
    "cv_estimator = LogisticRegression()\n",
    "X_train, X_test, y_train, y_test = train_test_split(df[features], df['revenue'], test_size=0.2, random_state=42)\n",
    "cv_estimator.fit(X_train, y_train)\n",
    "cv_selector = RFECV(cv_estimator, cv=5, step=1, scoring='accuracy')\n",
    "cv_selector = cv_selector.fit(X_train, y_train)\n",
    "rfecv_mask = cv_selector.get_support() # List of 1's and 0's\n",
    "rfecv_features = []\n",
    "for boolean, feature in zip(rfecv_mask, X_train.columns):\n",
    "    if boolean:\n",
    "        rfecv_features.append(feature) # Grab only features selected by RFECV\n",
    "print('Optimal # of Features:', cv_selector.n_features_)\n",
    "print('Best Features:', rfecv_features)\n",
    "n_features = X_train.shape[1]\n",
    "plt.figure(figsize=(25, 35))\n",
    "plt.barh(range(n_features), cv_estimator.feature_importance_, align='center')\n",
    "plt.yticks(np.arange(n_features), X_train.columns.values)\n",
    "plt.xlabel('Feature Importance')\n",
    "plt.ylabel('Feature')\n",
    "plt.show()"
   ]
  },
  {
   "cell_type": "code",
   "execution_count": null,
   "id": "e545be32-d3cd-4da5-92e3-67ad1302c75e",
   "metadata": {},
   "outputs": [],
   "source": []
  }
 ],
 "metadata": {
  "kernelspec": {
   "display_name": "Python 3 (ipykernel)",
   "language": "python",
   "name": "python3"
  },
  "language_info": {
   "codemirror_mode": {
    "name": "ipython",
    "version": 3
   },
   "file_extension": ".py",
   "mimetype": "text/x-python",
   "name": "python",
   "nbconvert_exporter": "python",
   "pygments_lexer": "ipython3",
   "version": "3.9.7"
  }
 },
 "nbformat": 4,
 "nbformat_minor": 5
}
