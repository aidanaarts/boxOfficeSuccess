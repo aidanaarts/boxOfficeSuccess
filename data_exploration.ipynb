{
 "cells": [
  {
   "cell_type": "code",
   "execution_count": 2,
   "metadata": {},
   "outputs": [],
   "source": [
    "import pandas as pd\n",
    "import numpy as np\n",
    "import json\n",
    "# import seaborn as sns\n",
    "import matplotlib.pyplot as plt\n",
    "import matplotlib\n",
    "from datetime import datetime\n",
    "import re\n",
    "import sklearn\n",
    "import seaborn as sns\n",
    "import collections\n",
    "pd.set_option('display.max_columns', None)"
   ]
  },
  {
   "cell_type": "code",
   "execution_count": 3,
   "metadata": {},
   "outputs": [],
   "source": [
    "df = pd.read_excel('../Data/OriginalData/TMDB_dataset.xlsx')\n",
    "df = df.dropna()\n",
    "df.reset_index(drop=True, inplace=True)"
   ]
  },
  {
   "cell_type": "markdown",
   "metadata": {},
   "source": [
    "**<span style=\"font-size:2em;\">Popularity Metrics</span>**"
   ]
  },
  {
   "cell_type": "markdown",
   "metadata": {},
   "source": [
    "**Row-Wise Function to Compute Average Popularity for a Movie Crew/Cast**"
   ]
  },
  {
   "cell_type": "code",
   "execution_count": 3,
   "metadata": {},
   "outputs": [],
   "source": [
    "def avg_population(row):\n",
    "    score = 0\n",
    "    remove_duplicates = []\n",
    "    if isinstance(row, float):\n",
    "        return np.nan\n",
    "    else:\n",
    "        for person in row.split(','):\n",
    "            if person not in remove_duplicates:\n",
    "                remove_duplicates.append(person)\n",
    "        for m in remove_duplicates:\n",
    "            if len(m.lstrip().split(':')) > 1:\n",
    "                score += float(m.lstrip().split(':')[-1])\n",
    "        return score/len(remove_duplicates)"
   ]
  },
  {
   "cell_type": "markdown",
   "metadata": {},
   "source": [
    "**Function Call**"
   ]
  },
  {
   "cell_type": "code",
   "execution_count": 4,
   "metadata": {},
   "outputs": [],
   "source": [
    "df['cast_average'] = df['cast'].apply(lambda c: avg_population(c))\n",
    "df['crew_average'] = df['crew'].apply(lambda c: avg_population(c))"
   ]
  },
  {
   "cell_type": "markdown",
   "metadata": {},
   "source": [
    "**<span style=\"font-size:2em;\">Encodings</span>**"
   ]
  },
  {
   "cell_type": "markdown",
   "metadata": {},
   "source": [
    "**OneHot Encode the Genres**  \n",
    "Note: Cannot use built in function because we need to change the format"
   ]
  },
  {
   "cell_type": "code",
   "execution_count": 5,
   "metadata": {},
   "outputs": [],
   "source": [
    "unique_genres = []\n",
    "for list_of_genres in df['genres'].tolist():\n",
    "    for genre in list_of_genres.split(','):\n",
    "        if genre.lstrip() not in unique_genres:\n",
    "            unique_genres.append(genre.lstrip())"
   ]
  },
  {
   "cell_type": "code",
   "execution_count": 6,
   "metadata": {},
   "outputs": [],
   "source": [
    "for genre in unique_genres:\n",
    "    df[genre] = df['genres'].apply(lambda genre_list: 1 if genre in genre_list.split(', ') else 0)\n",
    "df = df.drop('genres', axis=1)"
   ]
  },
  {
   "cell_type": "markdown",
   "metadata": {},
   "source": [
    "**OneHot Encode the Production Companies (May not use this attribute because there are 9313 companies)**  \n",
    "Note: Cannot use built in function because we need to change the format"
   ]
  },
  {
   "cell_type": "code",
   "execution_count": 7,
   "metadata": {},
   "outputs": [],
   "source": [
    "unique_prod_comp = []\n",
    "for list_of_comp in df['production_companies'].tolist():\n",
    "    for comp in list_of_comp.split(','):\n",
    "        # if comp.lstrip() not in unique_prod_comp:\n",
    "        unique_prod_comp.append((comp.lstrip()))"
   ]
  },
  {
   "cell_type": "code",
   "execution_count": 8,
   "metadata": {},
   "outputs": [],
   "source": [
    "common_pc = [c[0] for c in collections.Counter(unique_prod_comp).most_common(25)]\n",
    "for comp in common_pc:\n",
    "    df[comp] = df['production_companies'].apply(lambda comp_list: 1 if comp in comp_list.split(', ') else 0)"
   ]
  },
  {
   "cell_type": "markdown",
   "metadata": {},
   "source": [
    "**OneHot Encode the Original Langauge**  \n",
    "Note: Also may leave out because there are 50 different languages"
   ]
  },
  {
   "cell_type": "code",
   "execution_count": 9,
   "metadata": {},
   "outputs": [],
   "source": [
    "df = pd.get_dummies(df, columns=['original_language'])"
   ]
  },
  {
   "cell_type": "markdown",
   "metadata": {},
   "source": [
    "**Save to New File**"
   ]
  },
  {
   "cell_type": "code",
   "execution_count": 10,
   "metadata": {},
   "outputs": [],
   "source": [
    "df.to_excel('../Data/ProcessedData/TMDB_processed.xlsx', index=False)"
   ]
  },
  {
   "cell_type": "code",
   "execution_count": null,
   "metadata": {},
   "outputs": [],
   "source": []
  }
 ],
 "metadata": {
  "kernelspec": {
   "display_name": "Python 3",
   "language": "python",
   "name": "python3"
  },
  "language_info": {
   "codemirror_mode": {
    "name": "ipython",
    "version": 3
   },
   "file_extension": ".py",
   "mimetype": "text/x-python",
   "name": "python",
   "nbconvert_exporter": "python",
   "pygments_lexer": "ipython3",
   "version": "3.8.5"
  }
 },
 "nbformat": 4,
 "nbformat_minor": 5
}
