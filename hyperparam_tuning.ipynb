{
 "cells": [
  {
   "cell_type": "code",
   "execution_count": 1,
   "metadata": {},
   "outputs": [],
   "source": [
    "import numpy as np\n",
    "import pandas as pd\n",
    "import time\n",
    "import sklearn\n",
    "from sklearn.model_selection import GridSearchCV\n",
    "from sklearn import metrics\n",
    "from sklearn.model_selection import train_test_split, cross_val_score\n",
    "from xgboost import XGBRegressor\n",
    "import warnings\n",
    "warnings.filterwarnings('ignore')"
   ]
  },
  {
   "cell_type": "code",
   "execution_count": 2,
   "metadata": {},
   "outputs": [],
   "source": [
    "data = pd.read_excel('../Data/ProcessedData/TMDB_processed.xlsx')\n",
    "data = data.drop(['title'], axis=1)"
   ]
  },
  {
   "cell_type": "code",
   "execution_count": 3,
   "metadata": {},
   "outputs": [],
   "source": [
    "X = data[data.dtypes[data.columns != 'revenue'].index]\n",
    "y = data['revenue']"
   ]
  },
  {
   "cell_type": "code",
   "execution_count": 4,
   "metadata": {},
   "outputs": [],
   "source": [
    "X_train, X_test, y_train, y_test = train_test_split(X, y, test_size=0.1, random_state=42)"
   ]
  },
  {
   "cell_type": "code",
   "execution_count": null,
   "metadata": {},
   "outputs": [
    {
     "name": "stdout",
     "output_type": "stream",
     "text": [
      "Fitting 5 folds for each of 1250235 candidates, totalling 6251175 fits\n"
     ]
    }
   ],
   "source": [
    "params = { 'max_depth': list(range(2, 11, 1)),\n",
    "           'learning_rate': list(np.arange(0.01, 0.1, 0.02)),\n",
    "           'n_estimators': list(range(100, 1000, 100)),\n",
    "           'colsample_bytree': list(np.arange(0.1, 1, 0.1)),\n",
    "           'min_child_weight': list(range(3, 10, 1)),\n",
    "           'gamma': list(np.arange(0.2, 0.8, 0.1)),\n",
    "           'subsample': list(np.arange(0.2, 0.8, 0.1))}\n",
    "\n",
    "model = XGBRegressor()\n",
    "\n",
    "clf = GridSearchCV(estimator=model, \n",
    "                   param_grid=params,\n",
    "                   scoring='r2', \n",
    "                   verbose=1)\n",
    "start = time.time()\n",
    "clf.fit(X, y)\n",
    "end = time.time()\n",
    "print('Time taken to tune hyperparameters: {}'.format(end - start))\n",
    "print(\"Best parameters:\", clf.best_params_)\n",
    "print(\"Highest R2: \", (clf.best_score_))"
   ]
  },
  {
   "cell_type": "code",
   "execution_count": null,
   "metadata": {},
   "outputs": [],
   "source": [
    "y_pred = clf.predict(X_test)"
   ]
  },
  {
   "cell_type": "code",
   "execution_count": null,
   "metadata": {},
   "outputs": [],
   "source": [
    "from sklearn.metrics import r2_score\n",
    "score = r2_score(y_test, y_predictions)\n",
    "\n",
    "fig, ax = plt.subplots()\n",
    "ax.scatter(y_test, y_predictions)\n",
    "ax.plot([y.min(), y.max()], [y.min(), y.max()], 'k--', lw=4)\n",
    "ax.set_xlabel('Measured revenue')\n",
    "ax.set_ylabel('Predicted revenue')\n",
    "plt.title('Measured versus predicted revenue')\n",
    "plt.ylim((50000000, 300000000))   # set the ylim to bottom, top\n",
    "plt.xlim(50000000, 300000000)     # set the ylim to bottom, top\n",
    "plt.show()"
   ]
  },
  {
   "cell_type": "code",
   "execution_count": null,
   "metadata": {},
   "outputs": [],
   "source": [
    "score"
   ]
  }
 ],
 "metadata": {
  "kernelspec": {
   "display_name": "Python 3",
   "language": "python",
   "name": "python3"
  },
  "language_info": {
   "codemirror_mode": {
    "name": "ipython",
    "version": 3
   },
   "file_extension": ".py",
   "mimetype": "text/x-python",
   "name": "python",
   "nbconvert_exporter": "python",
   "pygments_lexer": "ipython3",
   "version": "3.8.5"
  }
 },
 "nbformat": 4,
 "nbformat_minor": 5
}
