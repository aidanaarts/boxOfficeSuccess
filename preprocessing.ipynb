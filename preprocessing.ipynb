{
 "cells": [
  {
   "cell_type": "code",
   "execution_count": 37,
   "metadata": {},
   "outputs": [],
   "source": [
    "import pandas as pd\n",
    "import numpy as np\n",
    "import json\n",
    "import matplotlib.pyplot as plt\n",
    "import matplotlib\n",
    "from datetime import datetime\n",
    "import re\n",
    "import sklearn\n",
    "import seaborn as sns\n",
    "import collections\n",
    "from scipy.stats import norm\n",
    "from sklearn.preprocessing import LabelEncoder\n",
    "pd.set_option('display.max_columns', None)"
   ]
  },
  {
   "cell_type": "code",
   "execution_count": 38,
   "metadata": {},
   "outputs": [],
   "source": [
    "df = pd.read_excel('../Data/OriginalData/TMDB_dataset.xlsx')\n",
    "df = df.dropna()\n",
    "df.reset_index(drop=True, inplace=True)"
   ]
  },
  {
   "cell_type": "markdown",
   "metadata": {},
   "source": [
    "**<span style=\"font-size:2em;\">Popularity Metrics</span>**"
   ]
  },
  {
   "cell_type": "markdown",
   "metadata": {},
   "source": [
    "**Row-Wise Function to Compute Average Popularity for a Movie Crew/Cast**"
   ]
  },
  {
   "cell_type": "code",
   "execution_count": 39,
   "metadata": {},
   "outputs": [],
   "source": [
    "def avg_popularity(row):\n",
    "    score = 0\n",
    "    remove_duplicates = []\n",
    "    if isinstance(row, float):\n",
    "        return np.nan\n",
    "    else:\n",
    "        for person in row.split(','):\n",
    "            if person not in remove_duplicates:\n",
    "                remove_duplicates.append(person)\n",
    "        for m in remove_duplicates:\n",
    "            if len(m.lstrip().split(':')) > 1:\n",
    "                score += float(m.lstrip().split(':')[-1])\n",
    "        return score/len(remove_duplicates)"
   ]
  },
  {
   "cell_type": "markdown",
   "metadata": {},
   "source": [
    "**Function Call**"
   ]
  },
  {
   "cell_type": "code",
   "execution_count": 40,
   "metadata": {},
   "outputs": [],
   "source": [
    "df['cast_average'] = df['cast'].apply(lambda c: avg_popularity(c))\n",
    "df['crew_average'] = df['crew'].apply(lambda c: avg_popularity(c))"
   ]
  },
  {
   "cell_type": "markdown",
   "metadata": {},
   "source": [
    "**<span style=\"font-size:2em;\">Encodings</span>**"
   ]
  },
  {
   "cell_type": "markdown",
   "metadata": {},
   "source": [
    "**OneHot Encode the top 500 actors**  \n",
    "Note: Cannot use built in function because we need to change the format"
   ]
  },
  {
   "cell_type": "code",
   "execution_count": 41,
   "metadata": {},
   "outputs": [],
   "source": [
    "unique_actors = []\n",
    "for list_of_actors in df['cast'].tolist():\n",
    "    for act in list_of_actors.split(','):\n",
    "        unique_actors.append(act.split(':')[0].lstrip())"
   ]
  },
  {
   "cell_type": "code",
   "execution_count": 42,
   "metadata": {},
   "outputs": [
    {
     "name": "stderr",
     "output_type": "stream",
     "text": [
      "/var/folders/wf/gnllpg551yvc7g8z_j80tmgm0000gn/T/ipykernel_81302/1061978767.py:3: PerformanceWarning: DataFrame is highly fragmented.  This is usually the result of calling `frame.insert` many times, which has poor performance.  Consider joining all columns at once using pd.concat(axis=1) instead.  To get a de-fragmented frame, use `newframe = frame.copy()`\n",
      "  df[act] = df['cast'].apply(lambda actor_list: 1 if act in actor_list.split(', ') else 0)\n"
     ]
    }
   ],
   "source": [
    "common_act = [c[0] for c in collections.Counter(unique_actors).most_common(500)]\n",
    "for act in common_act:\n",
    "    df[act] = df['cast'].apply(lambda actor_list: 1 if act in actor_list.split(', ') else 0)\n",
    "df = df.drop('cast', axis=1)"
   ]
  },
  {
   "cell_type": "markdown",
   "metadata": {},
   "source": [
    "**OneHot Encode the top 500 crew members**  \n",
    "Note: Cannot use built in function because we need to change the format"
   ]
  },
  {
   "cell_type": "code",
   "execution_count": 43,
   "metadata": {},
   "outputs": [],
   "source": [
    "unique_crew = []\n",
    "for list_of_crew in df['crew'].tolist():\n",
    "    for mem in list_of_crew.split(','):\n",
    "        unique_crew.append(mem.split(':')[0].lstrip())"
   ]
  },
  {
   "cell_type": "code",
   "execution_count": 44,
   "metadata": {},
   "outputs": [
    {
     "name": "stderr",
     "output_type": "stream",
     "text": [
      "/var/folders/wf/gnllpg551yvc7g8z_j80tmgm0000gn/T/ipykernel_81302/4245124629.py:3: PerformanceWarning: DataFrame is highly fragmented.  This is usually the result of calling `frame.insert` many times, which has poor performance.  Consider joining all columns at once using pd.concat(axis=1) instead.  To get a de-fragmented frame, use `newframe = frame.copy()`\n",
      "  df[mem] = df['crew'].apply(lambda crew_list: 1 if mem in crew_list.split(', ') else 0)\n"
     ]
    }
   ],
   "source": [
    "common_mems = [c[0] for c in collections.Counter(unique_crew).most_common(500)]\n",
    "for mem in common_mems:\n",
    "    df[mem] = df['crew'].apply(lambda crew_list: 1 if mem in crew_list.split(', ') else 0)\n",
    "df = df.drop('crew', axis=1)"
   ]
  },
  {
   "cell_type": "markdown",
   "metadata": {},
   "source": [
    "**OneHot Encode the Genres**  \n",
    "Note: Cannot use built in function because we need to change the format"
   ]
  },
  {
   "cell_type": "code",
   "execution_count": 45,
   "metadata": {},
   "outputs": [],
   "source": [
    "unique_genres = []\n",
    "for list_of_genres in df['genres'].tolist():\n",
    "    for genre in list_of_genres.split(','):\n",
    "        if genre.lstrip() not in unique_genres:\n",
    "            unique_genres.append(genre.lstrip())"
   ]
  },
  {
   "cell_type": "code",
   "execution_count": 46,
   "metadata": {},
   "outputs": [],
   "source": [
    "for genre in unique_genres:\n",
    "    df[genre] = df['genres'].apply(lambda genre_list: 1 if genre in genre_list.split(', ') else 0)\n",
    "df = df.drop('genres', axis=1)"
   ]
  },
  {
   "cell_type": "markdown",
   "metadata": {},
   "source": [
    "**OneHot Encode the Production Companies (May not use this attribute because there are 9313 companies)**  \n",
    "Note: Cannot use built in function because we need to change the format"
   ]
  },
  {
   "cell_type": "code",
   "execution_count": 47,
   "metadata": {},
   "outputs": [],
   "source": [
    "unique_prod_comp = []\n",
    "for list_of_comp in df['production_companies'].tolist():\n",
    "    for comp in list_of_comp.split(','):\n",
    "        unique_prod_comp.append((comp.lstrip()))"
   ]
  },
  {
   "cell_type": "code",
   "execution_count": 48,
   "metadata": {},
   "outputs": [],
   "source": [
    "common_pc = [c[0] for c in collections.Counter(unique_prod_comp).most_common(50)]\n",
    "for comp in common_pc:\n",
    "    df[comp] = df['production_companies'].apply(lambda comp_list: 1 if comp in comp_list.split(', ') else 0)\n",
    "df = df.drop('production_companies', axis=1)"
   ]
  },
  {
   "cell_type": "markdown",
   "metadata": {},
   "source": [
    "**OneHot Encode the Original Langauge**  \n",
    "Note: Also may leave out because there are 50 different languages"
   ]
  },
  {
   "cell_type": "code",
   "execution_count": 49,
   "metadata": {},
   "outputs": [],
   "source": [
    "df = pd.get_dummies(df, columns=['original_language'])"
   ]
  },
  {
   "cell_type": "markdown",
   "metadata": {},
   "source": [
    "**Bin Release Dates By Year**"
   ]
  },
  {
   "cell_type": "code",
   "execution_count": 50,
   "metadata": {},
   "outputs": [],
   "source": [
    "# Convert to datetime\n",
    "df['release_date'] = df['release_date'].apply(lambda d: datetime.strptime(d, '%Y-%m-%d'))\n",
    "# Bin and Encode\n",
    "le = LabelEncoder()\n",
    "n_bins = 104 # Number of years from 1918 and 2020 (inclusive)\n",
    "df['release_date'] = le.fit_transform(pd.cut(df['release_date'], n_bins, retbins=True)[0])"
   ]
  },
  {
   "cell_type": "markdown",
   "metadata": {},
   "source": [
    "**Save to New File**"
   ]
  },
  {
   "cell_type": "code",
   "execution_count": 51,
   "metadata": {},
   "outputs": [],
   "source": [
    "df.to_excel('../Data/ProcessedData/TMDB_processed.xlsx', index=False)"
   ]
  }
 ],
 "metadata": {
  "kernelspec": {
   "display_name": "Python 3",
   "language": "python",
   "name": "python3"
  },
  "language_info": {
   "codemirror_mode": {
    "name": "ipython",
    "version": 3
   },
   "file_extension": ".py",
   "mimetype": "text/x-python",
   "name": "python",
   "nbconvert_exporter": "python",
   "pygments_lexer": "ipython3",
   "version": "3.8.5"
  }
 },
 "nbformat": 4,
 "nbformat_minor": 5
}
